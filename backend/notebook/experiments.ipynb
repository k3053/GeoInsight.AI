{
 "cells": [
  {
   "cell_type": "code",
   "execution_count": 1,
   "id": "73b83d2b",
   "metadata": {},
   "outputs": [
    {
     "name": "stdout",
     "output_type": "stream",
     "text": [
      "Requirement already satisfied: fastmcp in e:\\anaconda\\lib\\site-packages (2.11.3)\n",
      "Requirement already satisfied: authlib>=1.5.2 in e:\\anaconda\\lib\\site-packages (from fastmcp) (1.6.1)\n",
      "Requirement already satisfied: cyclopts>=3.0.0 in e:\\anaconda\\lib\\site-packages (from fastmcp) (3.22.5)\n",
      "Requirement already satisfied: exceptiongroup>=1.2.2 in e:\\anaconda\\lib\\site-packages (from fastmcp) (1.3.0)\n",
      "Requirement already satisfied: httpx>=0.28.1 in e:\\anaconda\\lib\\site-packages (from fastmcp) (0.28.1)\n",
      "Requirement already satisfied: mcp<2.0.0,>=1.12.4 in e:\\anaconda\\lib\\site-packages (from fastmcp) (1.12.4)\n",
      "Requirement already satisfied: openapi-core>=0.19.5 in e:\\anaconda\\lib\\site-packages (from fastmcp) (0.19.5)\n",
      "Requirement already satisfied: openapi-pydantic>=0.5.1 in e:\\anaconda\\lib\\site-packages (from fastmcp) (0.5.1)\n",
      "Requirement already satisfied: pydantic>=2.11.7 in e:\\anaconda\\lib\\site-packages (from pydantic[email]>=2.11.7->fastmcp) (2.11.7)\n",
      "Requirement already satisfied: pyperclip>=1.9.0 in e:\\anaconda\\lib\\site-packages (from fastmcp) (1.9.0)\n",
      "Requirement already satisfied: python-dotenv>=1.1.0 in e:\\anaconda\\lib\\site-packages (from fastmcp) (1.1.0)\n",
      "Requirement already satisfied: rich>=13.9.4 in e:\\anaconda\\lib\\site-packages (from fastmcp) (13.9.4)\n",
      "Requirement already satisfied: anyio>=4.5 in e:\\anaconda\\lib\\site-packages (from mcp<2.0.0,>=1.12.4->fastmcp) (4.7.0)\n",
      "Requirement already satisfied: httpx-sse>=0.4 in e:\\anaconda\\lib\\site-packages (from mcp<2.0.0,>=1.12.4->fastmcp) (0.4.1)\n",
      "Requirement already satisfied: jsonschema>=4.20.0 in e:\\anaconda\\lib\\site-packages (from mcp<2.0.0,>=1.12.4->fastmcp) (4.23.0)\n",
      "Requirement already satisfied: pydantic-settings>=2.5.2 in e:\\anaconda\\lib\\site-packages (from mcp<2.0.0,>=1.12.4->fastmcp) (2.6.1)\n",
      "Requirement already satisfied: python-multipart>=0.0.9 in e:\\anaconda\\lib\\site-packages (from mcp<2.0.0,>=1.12.4->fastmcp) (0.0.20)\n",
      "Requirement already satisfied: pywin32>=310 in e:\\anaconda\\lib\\site-packages (from mcp<2.0.0,>=1.12.4->fastmcp) (311)\n",
      "Requirement already satisfied: sse-starlette>=1.6.1 in e:\\anaconda\\lib\\site-packages (from mcp<2.0.0,>=1.12.4->fastmcp) (3.0.2)\n",
      "Requirement already satisfied: starlette>=0.27 in e:\\anaconda\\lib\\site-packages (from mcp<2.0.0,>=1.12.4->fastmcp) (0.47.2)\n",
      "Requirement already satisfied: uvicorn>=0.23.1 in e:\\anaconda\\lib\\site-packages (from mcp<2.0.0,>=1.12.4->fastmcp) (0.35.0)\n",
      "Requirement already satisfied: annotated-types>=0.6.0 in e:\\anaconda\\lib\\site-packages (from pydantic>=2.11.7->pydantic[email]>=2.11.7->fastmcp) (0.6.0)\n",
      "Requirement already satisfied: pydantic-core==2.33.2 in e:\\anaconda\\lib\\site-packages (from pydantic>=2.11.7->pydantic[email]>=2.11.7->fastmcp) (2.33.2)\n",
      "Requirement already satisfied: typing-extensions>=4.12.2 in e:\\anaconda\\lib\\site-packages (from pydantic>=2.11.7->pydantic[email]>=2.11.7->fastmcp) (4.12.2)\n",
      "Requirement already satisfied: typing-inspection>=0.4.0 in e:\\anaconda\\lib\\site-packages (from pydantic>=2.11.7->pydantic[email]>=2.11.7->fastmcp) (0.4.1)\n",
      "Requirement already satisfied: idna>=2.8 in e:\\anaconda\\lib\\site-packages (from anyio>=4.5->mcp<2.0.0,>=1.12.4->fastmcp) (3.7)\n",
      "Requirement already satisfied: sniffio>=1.1 in e:\\anaconda\\lib\\site-packages (from anyio>=4.5->mcp<2.0.0,>=1.12.4->fastmcp) (1.3.0)\n",
      "Requirement already satisfied: cryptography in e:\\anaconda\\lib\\site-packages (from authlib>=1.5.2->fastmcp) (44.0.1)\n",
      "Requirement already satisfied: attrs>=23.1.0 in e:\\anaconda\\lib\\site-packages (from cyclopts>=3.0.0->fastmcp) (24.3.0)\n",
      "Requirement already satisfied: docstring-parser>=0.15 in e:\\anaconda\\lib\\site-packages (from cyclopts>=3.0.0->fastmcp) (0.17.0)\n",
      "Requirement already satisfied: rich-rst<2.0.0,>=1.3.1 in e:\\anaconda\\lib\\site-packages (from cyclopts>=3.0.0->fastmcp) (1.3.1)\n",
      "Requirement already satisfied: docutils in e:\\anaconda\\lib\\site-packages (from rich-rst<2.0.0,>=1.3.1->cyclopts>=3.0.0->fastmcp) (0.21.2)\n",
      "Requirement already satisfied: certifi in e:\\anaconda\\lib\\site-packages (from httpx>=0.28.1->fastmcp) (2025.4.26)\n",
      "Requirement already satisfied: httpcore==1.* in e:\\anaconda\\lib\\site-packages (from httpx>=0.28.1->fastmcp) (1.0.9)\n",
      "Requirement already satisfied: h11>=0.16 in e:\\anaconda\\lib\\site-packages (from httpcore==1.*->httpx>=0.28.1->fastmcp) (0.16.0)\n",
      "Requirement already satisfied: jsonschema-specifications>=2023.03.6 in e:\\anaconda\\lib\\site-packages (from jsonschema>=4.20.0->mcp<2.0.0,>=1.12.4->fastmcp) (2023.7.1)\n",
      "Requirement already satisfied: referencing>=0.28.4 in e:\\anaconda\\lib\\site-packages (from jsonschema>=4.20.0->mcp<2.0.0,>=1.12.4->fastmcp) (0.30.2)\n",
      "Requirement already satisfied: rpds-py>=0.7.1 in e:\\anaconda\\lib\\site-packages (from jsonschema>=4.20.0->mcp<2.0.0,>=1.12.4->fastmcp) (0.22.3)\n",
      "Requirement already satisfied: isodate in e:\\anaconda\\lib\\site-packages (from openapi-core>=0.19.5->fastmcp) (0.7.2)\n",
      "Requirement already satisfied: jsonschema-path<0.4.0,>=0.3.1 in e:\\anaconda\\lib\\site-packages (from openapi-core>=0.19.5->fastmcp) (0.3.4)\n",
      "Requirement already satisfied: more-itertools in e:\\anaconda\\lib\\site-packages (from openapi-core>=0.19.5->fastmcp) (10.3.0)\n",
      "Requirement already satisfied: openapi-schema-validator<0.7.0,>=0.6.0 in e:\\anaconda\\lib\\site-packages (from openapi-core>=0.19.5->fastmcp) (0.6.3)\n",
      "Requirement already satisfied: openapi-spec-validator<0.8.0,>=0.7.1 in e:\\anaconda\\lib\\site-packages (from openapi-core>=0.19.5->fastmcp) (0.7.2)\n",
      "Requirement already satisfied: parse in e:\\anaconda\\lib\\site-packages (from openapi-core>=0.19.5->fastmcp) (1.20.2)\n",
      "Requirement already satisfied: werkzeug<3.1.2 in e:\\anaconda\\lib\\site-packages (from openapi-core>=0.19.5->fastmcp) (3.1.1)\n",
      "Requirement already satisfied: PyYAML>=5.1 in e:\\anaconda\\lib\\site-packages (from jsonschema-path<0.4.0,>=0.3.1->openapi-core>=0.19.5->fastmcp) (6.0.2)\n",
      "Requirement already satisfied: pathable<0.5.0,>=0.4.1 in e:\\anaconda\\lib\\site-packages (from jsonschema-path<0.4.0,>=0.3.1->openapi-core>=0.19.5->fastmcp) (0.4.4)\n",
      "Requirement already satisfied: requests<3.0.0,>=2.31.0 in e:\\anaconda\\lib\\site-packages (from jsonschema-path<0.4.0,>=0.3.1->openapi-core>=0.19.5->fastmcp) (2.32.3)\n",
      "Requirement already satisfied: rfc3339-validator in e:\\anaconda\\lib\\site-packages (from openapi-schema-validator<0.7.0,>=0.6.0->openapi-core>=0.19.5->fastmcp) (0.1.4)\n",
      "Requirement already satisfied: lazy-object-proxy<2.0.0,>=1.7.1 in e:\\anaconda\\lib\\site-packages (from openapi-spec-validator<0.8.0,>=0.7.1->openapi-core>=0.19.5->fastmcp) (1.11.0)\n",
      "Requirement already satisfied: charset-normalizer<4,>=2 in e:\\anaconda\\lib\\site-packages (from requests<3.0.0,>=2.31.0->jsonschema-path<0.4.0,>=0.3.1->openapi-core>=0.19.5->fastmcp) (3.3.2)\n",
      "Requirement already satisfied: urllib3<3,>=1.21.1 in e:\\anaconda\\lib\\site-packages (from requests<3.0.0,>=2.31.0->jsonschema-path<0.4.0,>=0.3.1->openapi-core>=0.19.5->fastmcp) (2.3.0)\n",
      "Requirement already satisfied: MarkupSafe>=2.1.1 in e:\\anaconda\\lib\\site-packages (from werkzeug<3.1.2->openapi-core>=0.19.5->fastmcp) (3.0.2)\n",
      "Requirement already satisfied: email-validator>=2.0.0 in e:\\anaconda\\lib\\site-packages (from pydantic[email]>=2.11.7->fastmcp) (2.2.0)\n",
      "Requirement already satisfied: dnspython>=2.0.0 in e:\\anaconda\\lib\\site-packages (from email-validator>=2.0.0->pydantic[email]>=2.11.7->fastmcp) (2.7.0)\n",
      "Requirement already satisfied: markdown-it-py>=2.2.0 in e:\\anaconda\\lib\\site-packages (from rich>=13.9.4->fastmcp) (2.2.0)\n",
      "Requirement already satisfied: pygments<3.0.0,>=2.13.0 in e:\\anaconda\\lib\\site-packages (from rich>=13.9.4->fastmcp) (2.19.1)\n",
      "Requirement already satisfied: mdurl~=0.1 in e:\\anaconda\\lib\\site-packages (from markdown-it-py>=2.2.0->rich>=13.9.4->fastmcp) (0.1.0)\n",
      "Requirement already satisfied: click>=7.0 in e:\\anaconda\\lib\\site-packages (from uvicorn>=0.23.1->mcp<2.0.0,>=1.12.4->fastmcp) (8.1.8)\n",
      "Requirement already satisfied: colorama in e:\\anaconda\\lib\\site-packages (from click>=7.0->uvicorn>=0.23.1->mcp<2.0.0,>=1.12.4->fastmcp) (0.4.6)\n",
      "Requirement already satisfied: cffi>=1.12 in e:\\anaconda\\lib\\site-packages (from cryptography->authlib>=1.5.2->fastmcp) (1.17.1)\n",
      "Requirement already satisfied: pycparser in e:\\anaconda\\lib\\site-packages (from cffi>=1.12->cryptography->authlib>=1.5.2->fastmcp) (2.21)\n",
      "Requirement already satisfied: six in e:\\anaconda\\lib\\site-packages (from rfc3339-validator->openapi-schema-validator<0.7.0,>=0.6.0->openapi-core>=0.19.5->fastmcp) (1.17.0)\n"
     ]
    }
   ],
   "source": [
    "!pip install fastmcp"
   ]
  },
  {
   "cell_type": "code",
   "execution_count": 1,
   "id": "fe32e710",
   "metadata": {},
   "outputs": [
    {
     "ename": "RuntimeError",
     "evalue": "Already running asyncio in this thread",
     "output_type": "error",
     "traceback": [
      "\u001b[1;31m---------------------------------------------------------------------------\u001b[0m",
      "\u001b[1;31mRuntimeError\u001b[0m                              Traceback (most recent call last)",
      "Cell \u001b[1;32mIn[1], line 11\u001b[0m\n\u001b[0;32m      8\u001b[0m     \u001b[38;5;28;01mreturn\u001b[39;00m a \u001b[38;5;241m+\u001b[39m b\n\u001b[0;32m     10\u001b[0m \u001b[38;5;28;01mif\u001b[39;00m \u001b[38;5;18m__name__\u001b[39m \u001b[38;5;241m==\u001b[39m \u001b[38;5;124m\"\u001b[39m\u001b[38;5;124m__main__\u001b[39m\u001b[38;5;124m\"\u001b[39m:\n\u001b[1;32m---> 11\u001b[0m     mcp\u001b[38;5;241m.\u001b[39mrun()\n",
      "File \u001b[1;32me:\\Anaconda\\Lib\\site-packages\\fastmcp\\server\\server.py:352\u001b[0m, in \u001b[0;36mFastMCP.run\u001b[1;34m(self, transport, show_banner, **transport_kwargs)\u001b[0m\n\u001b[0;32m    340\u001b[0m \u001b[38;5;28;01mdef\u001b[39;00m\u001b[38;5;250m \u001b[39m\u001b[38;5;21mrun\u001b[39m(\n\u001b[0;32m    341\u001b[0m     \u001b[38;5;28mself\u001b[39m,\n\u001b[0;32m    342\u001b[0m     transport: Transport \u001b[38;5;241m|\u001b[39m \u001b[38;5;28;01mNone\u001b[39;00m \u001b[38;5;241m=\u001b[39m \u001b[38;5;28;01mNone\u001b[39;00m,\n\u001b[0;32m    343\u001b[0m     show_banner: \u001b[38;5;28mbool\u001b[39m \u001b[38;5;241m=\u001b[39m \u001b[38;5;28;01mTrue\u001b[39;00m,\n\u001b[0;32m    344\u001b[0m     \u001b[38;5;241m*\u001b[39m\u001b[38;5;241m*\u001b[39mtransport_kwargs: Any,\n\u001b[0;32m    345\u001b[0m ) \u001b[38;5;241m-\u001b[39m\u001b[38;5;241m>\u001b[39m \u001b[38;5;28;01mNone\u001b[39;00m:\n\u001b[0;32m    346\u001b[0m \u001b[38;5;250m    \u001b[39m\u001b[38;5;124;03m\"\"\"Run the FastMCP server. Note this is a synchronous function.\u001b[39;00m\n\u001b[0;32m    347\u001b[0m \n\u001b[0;32m    348\u001b[0m \u001b[38;5;124;03m    Args:\u001b[39;00m\n\u001b[0;32m    349\u001b[0m \u001b[38;5;124;03m        transport: Transport protocol to use (\"stdio\", \"sse\", or \"streamable-http\")\u001b[39;00m\n\u001b[0;32m    350\u001b[0m \u001b[38;5;124;03m    \"\"\"\u001b[39;00m\n\u001b[1;32m--> 352\u001b[0m     anyio\u001b[38;5;241m.\u001b[39mrun(\n\u001b[0;32m    353\u001b[0m         partial(\n\u001b[0;32m    354\u001b[0m             \u001b[38;5;28mself\u001b[39m\u001b[38;5;241m.\u001b[39mrun_async,\n\u001b[0;32m    355\u001b[0m             transport,\n\u001b[0;32m    356\u001b[0m             show_banner\u001b[38;5;241m=\u001b[39mshow_banner,\n\u001b[0;32m    357\u001b[0m             \u001b[38;5;241m*\u001b[39m\u001b[38;5;241m*\u001b[39mtransport_kwargs,\n\u001b[0;32m    358\u001b[0m         )\n\u001b[0;32m    359\u001b[0m     )\n",
      "File \u001b[1;32me:\\Anaconda\\Lib\\site-packages\\anyio\\_core\\_eventloop.py:59\u001b[0m, in \u001b[0;36mrun\u001b[1;34m(func, backend, backend_options, *args)\u001b[0m\n\u001b[0;32m     57\u001b[0m     \u001b[38;5;28;01mpass\u001b[39;00m\n\u001b[0;32m     58\u001b[0m \u001b[38;5;28;01melse\u001b[39;00m:\n\u001b[1;32m---> 59\u001b[0m     \u001b[38;5;28;01mraise\u001b[39;00m \u001b[38;5;167;01mRuntimeError\u001b[39;00m(\u001b[38;5;124mf\u001b[39m\u001b[38;5;124m\"\u001b[39m\u001b[38;5;124mAlready running \u001b[39m\u001b[38;5;132;01m{\u001b[39;00masynclib_name\u001b[38;5;132;01m}\u001b[39;00m\u001b[38;5;124m in this thread\u001b[39m\u001b[38;5;124m\"\u001b[39m)\n\u001b[0;32m     61\u001b[0m \u001b[38;5;28;01mtry\u001b[39;00m:\n\u001b[0;32m     62\u001b[0m     async_backend \u001b[38;5;241m=\u001b[39m get_async_backend(backend)\n",
      "\u001b[1;31mRuntimeError\u001b[0m: Already running asyncio in this thread"
     ]
    }
   ],
   "source": [
    "from fastmcp import FastMCP\n",
    "\n",
    "mcp = FastMCP(\"Demo 🚀\")\n",
    "\n",
    "@mcp.tool\n",
    "def add(a: int, b: int) -> int:\n",
    "    \"\"\"Add two numbers\"\"\"\n",
    "    return a + b\n",
    "\n",
    "if __name__ == \"__main__\":\n",
    "    mcp.run()"
   ]
  },
  {
   "cell_type": "code",
   "execution_count": null,
   "id": "b49a3409",
   "metadata": {},
   "outputs": [],
   "source": []
  }
 ],
 "metadata": {
  "kernelspec": {
   "display_name": "base",
   "language": "python",
   "name": "python3"
  },
  "language_info": {
   "codemirror_mode": {
    "name": "ipython",
    "version": 3
   },
   "file_extension": ".py",
   "mimetype": "text/x-python",
   "name": "python",
   "nbconvert_exporter": "python",
   "pygments_lexer": "ipython3",
   "version": "3.13.5"
  }
 },
 "nbformat": 4,
 "nbformat_minor": 5
}
